{
 "cells": [
  {
   "cell_type": "code",
   "execution_count": 2,
   "metadata": {
    "collapsed": false
   },
   "outputs": [],
   "source": [
    "import pandas\n",
    "import screed \n",
    "\n",
    "for record in screed.open( 'bglb.pep' ):\n",
    "    seq = record.sequence"
   ]
  },
  {
   "cell_type": "code",
   "execution_count": 4,
   "metadata": {
    "collapsed": false
   },
   "outputs": [
    {
     "data": {
      "text/plain": [
       "array(['c167a', 'e164a', 'e222a', 'e53a', 'h178a', 'l171a', 'm323a',\n",
       "       'n220a', 'n293a', 'q19a', 'r240a', 'r76a', 's16a', 's400a', 't296a',\n",
       "       'w120a', 'w325a', 'w34a', 'w409a', 'w407q', 'm323k', 'w407g',\n",
       "       'w407r', 'w120f', 'q313r', 'e406d', 'e17s', 'h315n', 'c167q',\n",
       "       'w325l', 'n220d+n293d', 'c167n+w120r', 'h122e', 'n223h', 'y297f',\n",
       "       'e180k', 'e180l', 'i303n', 'q316r', 's334a', 'a195s', 'l174r',\n",
       "       't178r', 'i247n', 'y169p', 'f75h', 'w328l', 'q22s', 'h122n',\n",
       "       'n223g', 'w328h', 's19a', 'k344a', 'w402c', 'm361t', 'n407c',\n",
       "       'e426s', 'v55g', 'w328c', 'n166d', 'h101r', 'h379t', 'm261d',\n",
       "       'h373r', 'i91e', 'v147s', 'p329n', 'e154d', 'h379r', 'q384r',\n",
       "       'a356a', 'a357a', 'a408a', 'd403a', 'e177a', 'e406a', 'f405a',\n",
       "       'f415a', 'g355a', 'h119a', 'k413a', 'l219a', 'm221a', 'n163a',\n",
       "       'n354a', 'n404a', 's14a', 's17a', 't15a', 't218a', 't352a', 'w299a',\n",
       "       'w407a', 'y18a', 'y294a', 'y295a', 'e164g', 'e164r', 'e222h',\n",
       "       'e222k', 'e222q', 'e222r', 'e222y', 'i244e', 'n163c', 'n163d',\n",
       "       'q19c', 'r240d', 'r240e', 'r240k', 's298e', 'w120h', 'w325g',\n",
       "       'w325r', 'w399s', 'w399c', 'w399g', 'y295g', 'n293c', 'l362m',\n",
       "       'f415n', 'n293q', 'n220y', 'w409y', 'w399r', 'h315e', 's16n',\n",
       "       'h178r', 'n293d', 'n220r', 'y294f', 'd322a', 'e177l', 'e353a',\n",
       "       'h178n', 'i300n', 'm323t', 'm358t', 'q313a', 'q313e', 'v311a',\n",
       "       'v311d', 'w399a', 'w325k', 'w399h', 'e388c', 'e177k', 'l108n',\n",
       "       'l272n ', 'n220w', 'h119w', 'n163k', 'n293k ', 'e164d'], dtype=object)"
      ]
     },
     "execution_count": 4,
     "metadata": {},
     "output_type": "execute_result"
    }
   ],
   "source": [
    "ros = pandas.read_csv( '/Users/alex/Documents/bagel-main/roster.csv' )\n",
    "ros.mutant.dropna().unique()"
   ]
  },
  {
   "cell_type": "code",
   "execution_count": 6,
   "metadata": {
    "collapsed": false
   },
   "outputs": [
    {
     "name": "stdout",
     "output_type": "stream",
     "text": [
      ">>> Error: E17S\n",
      ">>> Error: F75A\n",
      ">>> Error: M223G\n",
      ">>> Error: N407A\n"
     ]
    }
   ],
   "source": [
    "for i in lines:\n",
    "    if i[0] != record.sequence[ int( i[1:-1] ) - 1 ]:\n",
    "        print '>>> Error: {}'.format( i )"
   ]
  },
  {
   "cell_type": "code",
   "execution_count": null,
   "metadata": {
    "collapsed": true
   },
   "outputs": [],
   "source": []
  }
 ],
 "metadata": {
  "kernelspec": {
   "display_name": "Python 2",
   "language": "python",
   "name": "python2"
  },
  "language_info": {
   "codemirror_mode": {
    "name": "ipython",
    "version": 2
   },
   "file_extension": ".py",
   "mimetype": "text/x-python",
   "name": "python",
   "nbconvert_exporter": "python",
   "pygments_lexer": "ipython2",
   "version": "2.7.10"
  }
 },
 "nbformat": 4,
 "nbformat_minor": 0
}
