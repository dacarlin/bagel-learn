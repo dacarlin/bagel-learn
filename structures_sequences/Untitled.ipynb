{
 "cells": [
  {
   "cell_type": "code",
   "execution_count": 14,
   "metadata": {
    "collapsed": false
   },
   "outputs": [],
   "source": [
    "import pandas\n",
    "import screed \n",
    "\n",
    "for record in screed.open( 'bglb.pep' ):\n",
    "    seq = record.sequence"
   ]
  },
  {
   "cell_type": "code",
   "execution_count": 19,
   "metadata": {
    "collapsed": false
   },
   "outputs": [],
   "source": [
    "ros = pandas.read_csv( 'roster.csv' )"
   ]
  },
  {
   "cell_type": "code",
   "execution_count": 24,
   "metadata": {
    "collapsed": false
   },
   "outputs": [
    {
     "name": "stdout",
     "output_type": "stream",
     "text": [
      "N220Y\n",
      "W409Y\n",
      "W399R\n",
      "H315E\n",
      "S16N\n",
      "H178R\n",
      "N293D\n",
      "N220R\n",
      "Y294F\n",
      "D322A\n",
      "D403A\n",
      "E164A\n",
      "E177L\n",
      "E353A\n",
      "F415A\n",
      "H178N\n",
      "I300N\n",
      "M221A\n",
      "M323T\n",
      "M358T\n",
      "Q313A\n",
      "Q313E\n",
      "S298E\n",
      "V311A\n",
      "V311D\n",
      "W120A\n",
      "W325A\n",
      "W399A\n",
      "Y294F\n",
      "F415N\n",
      "W325K\n",
      "W399H\n",
      "E388C\n",
      "E177K\n",
      "L108N\n",
      "L272N\n",
      "N220W\n",
      "H119W\n",
      "N163K\n",
      "N293K\n",
      "E164D\n"
     ]
    }
   ],
   "source": [
    "for i in ros.mutant.map( str.upper ):\n",
    "    if i[0] == seq[ int( i[1:-1] ) - 1 ]:\n",
    "        print i"
   ]
  },
  {
   "cell_type": "code",
   "execution_count": null,
   "metadata": {
    "collapsed": true
   },
   "outputs": [],
   "source": []
  }
 ],
 "metadata": {
  "kernelspec": {
   "display_name": "Python 2",
   "language": "python",
   "name": "python2"
  },
  "language_info": {
   "codemirror_mode": {
    "name": "ipython",
    "version": 2
   },
   "file_extension": ".py",
   "mimetype": "text/x-python",
   "name": "python",
   "nbconvert_exporter": "python",
   "pygments_lexer": "ipython2",
   "version": "2.7.10"
  }
 },
 "nbformat": 4,
 "nbformat_minor": 0
}
