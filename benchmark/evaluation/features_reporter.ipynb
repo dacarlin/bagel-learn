{
 "cells": [
  {
   "cell_type": "markdown",
   "metadata": {},
   "source": [
    "# Using features from the FeaturesReporter "
   ]
  },
  {
   "cell_type": "code",
   "execution_count": null,
   "metadata": {
    "collapsed": false
   },
   "outputs": [
    {
     "name": "stdout",
     "output_type": "stream",
     "text": [
      "------------------------------------------------------------------------\n",
      "Results for features in \"features.db3\"\n",
      "------------------------------------------------------------------------\n",
      "Training on constant \"kcat\" ..."
     ]
    }
   ],
   "source": [
    "%%timeit -r1 -n1\n",
    "\n",
    "import sqlite3\n",
    "import pandas\n",
    "from sklearn.linear_model import ElasticNetCV\n",
    "from sklearn.grid_search import GridSearchCV\n",
    "from sklearn.ensemble import BaggingRegressor\n",
    "from scipy.stats import pearsonr\n",
    "from matplotlib import use; use('Agg')\n",
    "import matplotlib.pyplot as plt \n",
    "%matplotlib inline\n",
    "\n",
    "# this is the new benchmark script \n",
    "\n",
    "def low_10( df ):\n",
    "    return df.sort_values( by='total_score' ).head( 10 )\n",
    "\n",
    "for feature_db in [ 'features.db3' ]:\n",
    "    \n",
    "    print '------------------------------------------------------------------------'\n",
    "    print 'Results for features in \"{}\"'.format( feature_db )\n",
    "    print '------------------------------------------------------------------------'\n",
    "    \n",
    "    con = sqlite3.connect( feature_db )\n",
    "    for i in [ 'interfaces', 'interface_sides' ]:\n",
    "        f = pandas.read_sql_query( 'select * from {}'.format( i ), con, index_col='struct_id' )\n",
    "        names = pandas.read_sql_query( 'select * from structures', con, index_col='struct_id' )\n",
    "        feats = f.join( names ).dropna()\n",
    "        #print f.head()\n",
    "        #print names.head()\n",
    "        #print feats.head()\n",
    "\n",
    "        feats['shlag'] = feats.tag.str[:-10]\n",
    "        feats.set_index( 'shlag', inplace=True )\n",
    "\n",
    "        train_set = pandas.read_csv( '../data/train_set.csv' )\n",
    "        train_set.set_index( 'mutant', inplace=True )\n",
    "        fig, ax = plt.subplots( ncols=3, nrows=1, figsize=(10,3) )\n",
    "        constants = [ 'kcat', '1/km', 'kcat/km' ]\n",
    "        for const_index, constant in enumerate( constants ): \n",
    "\n",
    "            J = feats.join( train_set ).dropna()\n",
    "            y = J[ constant ]\n",
    "            X = J.ix[:,'dSASA':'batch_id'] \n",
    "\n",
    "            net = ElasticNetCV( normalize=True, selection='random' )\n",
    "\n",
    "            params_grid = {\n",
    "                'cv': [ 10 ], \n",
    "                'l1_ratio': [ 0.001, 0.01, 0.1, 0.5, 0.9 ], \n",
    "            }\n",
    "\n",
    "            print 'Training on constant \"{}\" ...'.format( constant ) , \n",
    "            grid = GridSearchCV( net, params_grid )\n",
    "            bag = BaggingRegressor( base_estimator=grid, n_estimators=1000, bootstrap_features=True )\n",
    "            bag.fit( X, y )\n",
    "\n",
    "            print 'done'\n",
    "            print 'Calculating predictions for \"{}\" ...'.format( constant ),\n",
    "            preds = bag.predict( X )\n",
    "\n",
    "            pcc = pearsonr( preds, y )\n",
    "            score = bag.score( X, y )\n",
    "            #params = bag.get_params()\n",
    "\n",
    "            print 'done', \n",
    "            #print '------------------------------------------------------------------------'\n",
    "            print '\\tPCC: {:.2f}, model score: {:.3f}'.format( pcc[0], score )\n",
    "            ax[ const_index ].scatter( preds, y, alpha=0.3, marker='.', color='magenta' )\n",
    "            ax[ const_index ].set_xlabel( 'Predicted {}'.format( constant ) )\n",
    "            ax[ const_index ].set_ylabel( 'Actual' )\n",
    "            plt.tight_layout()\n",
    "\n",
    "        fig.suptitle( feature_db )\n",
    "        fig.tight_layout()\n",
    "        fig.show()"
   ]
  },
  {
   "cell_type": "code",
   "execution_count": null,
   "metadata": {
    "collapsed": true
   },
   "outputs": [],
   "source": []
  }
 ],
 "metadata": {
  "kernelspec": {
   "display_name": "Python 2",
   "language": "python",
   "name": "python2"
  },
  "language_info": {
   "codemirror_mode": {
    "name": "ipython",
    "version": 2
   },
   "file_extension": ".py",
   "mimetype": "text/x-python",
   "name": "python",
   "nbconvert_exporter": "python",
   "pygments_lexer": "ipython2",
   "version": "2.7.10"
  }
 },
 "nbformat": 4,
 "nbformat_minor": 0
}
