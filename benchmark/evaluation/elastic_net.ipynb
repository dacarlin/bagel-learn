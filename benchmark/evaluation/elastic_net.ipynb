{
 "cells": [
  {
   "cell_type": "code",
   "execution_count": 51,
   "metadata": {
    "collapsed": false,
    "scrolled": true
   },
   "outputs": [],
   "source": [
    "import pandas\n",
    "from sklearn.linear_model import MultiTaskElasticNetCV, ElasticNetCV\n",
    "from sklearn.grid_search import GridSearchCV\n",
    "from sklearn.preprocessing import normalize\n",
    "from sklearn.ensemble import BaggingRegressor\n",
    "from scipy.stats import pearsonr\n",
    "from matplotlib import use; use('Agg')\n",
    "import matplotlib.pyplot as plt \n",
    "%matplotlib inline\n"
   ]
  },
  {
   "cell_type": "code",
   "execution_count": 52,
   "metadata": {
    "collapsed": false
   },
   "outputs": [
    {
     "name": "stdout",
     "output_type": "stream",
     "text": [
      "benchmarks/clean_repack_score.sc benchmarks/original.sc           benchmarks/whole60.sc\n",
      "benchmarks/detect.sc             benchmarks/whole.sc\n",
      "benchmarks/nstruct100.sc         benchmarks/whole10.sc\n",
      "     123 benchmarks/clean_repack_score.sc\n",
      "     123 benchmarks/detect.sc\n",
      "   10398 benchmarks/nstruct100.sc\n",
      "   10398 benchmarks/original.sc\n",
      "     119 benchmarks/whole.sc\n",
      "    1220 benchmarks/whole10.sc\n",
      "    9960 benchmarks/whole60.sc\n",
      "   32341 total\n"
     ]
    }
   ],
   "source": [
    "!ls benchmarks/*sc\n",
    "!wc -l benchmarks/*sc "
   ]
  },
  {
   "cell_type": "markdown",
   "metadata": {},
   "source": [
    "# Using the structural metrics calculated by the enzyme design mover "
   ]
  },
  {
   "cell_type": "code",
   "execution_count": null,
   "metadata": {
    "collapsed": false,
    "scrolled": false
   },
   "outputs": [
    {
     "name": "stdout",
     "output_type": "stream",
     "text": [
      "------------------------------------------------------------------------\n",
      "Results for scorefile \"benchmarks/original.sc\"\n",
      "------------------------------------------------------------------------\n",
      "Training on constant \"kcat\" ..."
     ]
    }
   ],
   "source": [
    "%%timeit -r1 -n1\n",
    "\n",
    "# this is the new benchmark script \n",
    "\n",
    "def low_10( df ):\n",
    "    return df.sort_values( by='total_score' ).head( 10 )\n",
    "\n",
    "for scorefile in [ 'benchmarks/original.sc', 'benchmarks/whole10.sc', 'benchmarks/whole60.sc', \n",
    "                   'benchmarks/detect.sc', 'benchmarks/nstruct100.sc' ]:\n",
    "    \n",
    "    print '------------------------------------------------------------------------'\n",
    "    print 'Results for scorefile \"{}\"'.format( scorefile )\n",
    "    print '------------------------------------------------------------------------'\n",
    "    \n",
    "    df = pandas.read_csv( scorefile, sep=r'\\s+' ).dropna()\n",
    "    df.description = df.description.str[:-5]\n",
    "    df = df.groupby( 'description' ).apply( low_10 )\n",
    "    df.set_index( 'description', inplace=True )\n",
    "    #print df.head()\n",
    "\n",
    "    #drop_list = [ u'all_cst', u'tot_seq_recovery', u'SR_1', u'SR_1_all_cst', u'SR_2', u'SR_2_all_cst', \n",
    "    #              u'SR_3', u'SR_3_all_cst', u'SR_4', u'SR_4_all_cst', u'SR_5', u'SR_5_all_cst' ]\n",
    "    #cols = [ i for i in drop_list if i in df.columns ]\n",
    "    #df.drop?\n",
    "    #print 'Dropping columns ', cols\n",
    "\n",
    "    train_set = pandas.read_csv( '../data/train_set.csv' )\n",
    "    train_set.set_index( 'mutant', inplace=True )\n",
    "\n",
    "    fig, ax = plt.subplots( ncols=3, nrows=1, figsize=(10,3) )\n",
    "    constants = [ 'kcat', '1/km', 'kcat/km' ]\n",
    "\n",
    "\n",
    "    for const_index, constant in enumerate( constants ): \n",
    "\n",
    "        X = df.join( train_set ).dropna()\n",
    "        y = X[ constant ].values\n",
    "        X = X.ix[ :,:'expressed' ].values\n",
    "\n",
    "        net = ElasticNetCV( normalize=True, selection='random' )\n",
    "\n",
    "        params_grid = {\n",
    "            'cv': [ 10 ], \n",
    "            'l1_ratio': [ 0.001, 0.01, 0.1, 0.5, 0.9 ], \n",
    "        }\n",
    "        \n",
    "        print 'Training on constant \"{}\" ...'.format( constant ) , \n",
    "        grid = GridSearchCV( net, params_grid )\n",
    "        bag = BaggingRegressor( base_estimator=grid, n_estimators=1000, bootstrap_features=True )\n",
    "        bag.fit( X, y )\n",
    "\n",
    "        print 'done'\n",
    "        print 'Calculating predictions for \"{}\" ...'.format( constant ),\n",
    "        preds = bag.predict( X )\n",
    "\n",
    "        pcc = pearsonr( preds, y )\n",
    "        score = bag.score( X, y )\n",
    "        #params = bag.get_params()\n",
    "        \n",
    "        print 'done', \n",
    "        #print '------------------------------------------------------------------------'\n",
    "        print '\\tPCC: {:.2f}, model score: {:.3f}'.format( pcc[0], score )\n",
    "        ax[ const_index ].scatter( preds, y, alpha=0.3, marker='.', color='magenta' )\n",
    "        ax[ const_index ].set_xlabel( 'Predicted {}'.format( constant ) )\n",
    "        ax[ const_index ].set_ylabel( 'Actual' )\n",
    "        plt.tight_layout()\n",
    "        \n",
    "    fig.suptitle( scorefile )\n",
    "    fig.tight_layout()\n",
    "    fig.show()\n"
   ]
  },
  {
   "cell_type": "markdown",
   "metadata": {},
   "source": [
    "# Using a features reporter to extract structural features "
   ]
  },
  {
   "cell_type": "code",
   "execution_count": null,
   "metadata": {
    "collapsed": false
   },
   "outputs": [],
   "source": [
    "import sqlite3\n",
    "from sklearn.cross_validation import cross_val_predict\n",
    "from sklearn.ensemble import BaggingRegressor\n",
    "\n",
    "con = sqlite3.connect( 'features.db3' )\n",
    "for i in [ 'interfaces', 'interface_sides' ]:\n",
    "    f = pandas.read_sql_query( 'select * from {}'.format( i ), con, index_col='struct_id' )\n",
    "\n",
    "names = pandas.read_sql_query( 'select * from structures', con, index_col='struct_id' )\n",
    "feats = f.join( names ).dropna()\n",
    "#print f.head()\n",
    "#print names.head()\n",
    "#print feats.head()\n",
    "\n",
    "feats['shlag'] = feats.tag.str[:-10]\n",
    "feats.set_index( 'shlag', inplace=True )\n",
    "\n",
    "train_set = pandas.read_csv( '../data/train_set.csv' )\n",
    "train_set.set_index( 'mutant', inplace=True )\n",
    "\n",
    "J = feats.join( train_set ).dropna()\n",
    "\n",
    "y = J.ix[:,'kcat':]\n",
    "X = J.ix[:,'dSASA':'batch_id'] \n",
    "\n",
    "net = MultiTaskElasticNetCV( )\n",
    "params_grid = { 'l1_ratio': [ 0.001, 0.01, 0.1, 0.5 ], 'cv': [ 10 ] }\n",
    "grid = GridSearchCV( net, params_grid )\n",
    "grid.fit( X, y )\n",
    "\n",
    "print 'Model score:', grid.score( X, y )\n",
    "print 'Found params:', grid.best_params_\n",
    "preds = [ grid.predict( X.iloc[i].reshape( 1, -1 ) ) for i in range( len( X ) ) ]\n",
    "actuals = [ y.iloc[i] for i in range( len( X ) ) ]\n",
    "#print 'Pearson {}'.format( pearsonr( preds, actuals ) )\n",
    "\n",
    "fig, ax = plt.subplots( ncols=3, nrows=1, figsize=(10,3) )\n",
    "for i in range( 3 ):\n",
    "    xvalues = [ preds[n][0][i] for n in range( len( preds ) ) ]\n",
    "    yvalues = [ actuals[n][i] for n in range( len( actuals ) ) ]\n",
    "    ax[i].scatter( yvalues, xvalues, alpha=0.4, marker='.' )\n",
    "    ax[i].set_xlabel( 'Actual' )\n",
    "    ax[i].set_ylabel( 'Predicted' )\n",
    "    ax[i].set_title( '{}\\nPCC={:.2}'.format( y.columns[i], pearsonr( xvalues, yvalues )[0] ) )\n",
    "    plt.tight_layout()\n",
    "\n",
    "#bag = BaggingRegressor( base_estimator = grid )\n",
    "#bag.fit( X, y )\n",
    "\n",
    "#net = ElasticNetCV(cv=strat)\n",
    "\n",
    "#preds = cross_val_predict( bag, X, y=y, cv=strat )\n",
    "#net.fit( X, y )\n",
    "#constants = ['kcat', '1/km', 'kcat/km']\n",
    "#preds = pandas.DataFrame( preds, columns=constants )\n",
    "#actuals = pandas.DataFrame( y, columns=constants )\n",
    "#for c in constants:\n",
    "#    plt.scatter( preds[c], actuals[c] )\n",
    "#    plt.show()"
   ]
  }
 ],
 "metadata": {
  "kernelspec": {
   "display_name": "Python 2",
   "language": "python",
   "name": "python2"
  },
  "language_info": {
   "codemirror_mode": {
    "name": "ipython",
    "version": 2
   },
   "file_extension": ".py",
   "mimetype": "text/x-python",
   "name": "python",
   "nbconvert_exporter": "python",
   "pygments_lexer": "ipython2",
   "version": "2.7.10"
  }
 },
 "nbformat": 4,
 "nbformat_minor": 0
}
