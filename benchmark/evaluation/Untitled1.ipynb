{
 "cells": [
  {
   "cell_type": "code",
   "execution_count": null,
   "metadata": {
    "collapsed": false
   },
   "outputs": [],
   "source": [
    "import pandas \n",
    "%matplotlib inline\n",
    "\n",
    "df = pandas.read_csv( 'benchmarks/whole10.sc', sep=r'\\s+' ).dropna()\n",
    "df.description = df.description.str[:-5]\n",
    "df.set_index( 'description', inplace=True )\n",
    "\n",
    "train_set = pandas.read_csv( '../data/train_set.csv' )\n",
    "train_set.set_index( 'mutant', inplace=True )\n",
    "X = df.join( train_set ).dropna()\n",
    "import seaborn as sns\n",
    "sns.set(style='whitegrid', context='notebook')\n",
    "sns.pairplot(X, size=9)\n",
    "#y = X.ix[:,'kcat':]\n",
    "#X = X.ix[:,:'expressed'] "
   ]
  },
  {
   "cell_type": "code",
   "execution_count": null,
   "metadata": {
    "collapsed": true
   },
   "outputs": [],
   "source": []
  }
 ],
 "metadata": {
  "kernelspec": {
   "display_name": "Python 2",
   "language": "python",
   "name": "python2"
  },
  "language_info": {
   "codemirror_mode": {
    "name": "ipython",
    "version": 2
   },
   "file_extension": ".py",
   "mimetype": "text/x-python",
   "name": "python",
   "nbconvert_exporter": "python",
   "pygments_lexer": "ipython2",
   "version": "2.7.10"
  }
 },
 "nbformat": 4,
 "nbformat_minor": 0
}
