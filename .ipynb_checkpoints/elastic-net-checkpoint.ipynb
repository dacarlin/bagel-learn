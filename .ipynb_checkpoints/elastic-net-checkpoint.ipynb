{
 "cells": [
  {
   "cell_type": "code",
   "execution_count": null,
   "metadata": {
    "collapsed": false
   },
   "outputs": [],
   "source": [
    "import pandas\n",
    "from sklearn.linear_model import ElasticNetCV\n",
    "import matplotlib.pyplot as plt\n",
    "% matplotlib inline\n",
    "\n",
    "# data\n",
    "df = pandas.read_csv( 'data.csv' )\n",
    "#df = df.fillna( { 'kcat': -5, 'km': -5, 'eff': -5 } )\n",
    "df = df.dropna()\n",
    "\n",
    "drop = [ 'index', 'kcat', 'km', 'eff', 'SR_1_all_cst', \n",
    "         'SR_2_all_cst', 'SR_3_all_cst', 'SR_4_all_cst', ]\n",
    "\n",
    "y = df.kcat.as_matrix()\n",
    "X = df.drop( drop, 1 ).as_matrix()"
   ]
  },
  {
   "cell_type": "code",
   "execution_count": null,
   "metadata": {
    "collapsed": false
   },
   "outputs": [],
   "source": [
    "# elastic net\n",
    "params = {\n",
    "    'cv': 779,\n",
    "    'normalize': False, \n",
    "    'l1_ratio': [.1, .5, 0.75, 0.9, 0.95, 0.99 ],\n",
    "    'n_jobs': 4, \n",
    "}\n",
    "\n",
    "net = ElasticNetCV( **params )\n",
    "net.fit( X, y )"
   ]
  },
  {
   "cell_type": "code",
   "execution_count": null,
   "metadata": {
    "collapsed": false
   },
   "outputs": [],
   "source": [
    "# results\n",
    "preds = [ net.predict( X[ i ] ) for i in range( len( X ) ) ]\n",
    "plt.scatter( y, preds, color='g', alpha=0.19 )\n",
    "plt.title( 'Elastic net with {}-fold cross validation\\nmodel score (R$^2$) = {:0.2f}'.format( params['cv'], net.score( X, y) ) )\n",
    "plt.xlabel( 'Measured $k_{cat}$' ); plt.ylabel( 'Predicted $k_{cat}$' )\n",
    "weights = pandas.DataFrame( zip( df.columns[1:-3], net.coef_ ), columns=['feature', 'weight'] )\n",
    "weights.sort( 'weight' )[0:11]"
   ]
  },
  {
   "cell_type": "code",
   "execution_count": null,
   "metadata": {
    "collapsed": false
   },
   "outputs": [],
   "source": [
    "net.l1_ratio_"
   ]
  },
  {
   "cell_type": "code",
   "execution_count": null,
   "metadata": {
    "collapsed": false
   },
   "outputs": [],
   "source": [
    "from sklearn.linear_model import MultiTaskElasticNetCV\n",
    "\n",
    "# data\n",
    "df = pandas.read_csv( 'data.csv' )\n",
    "#df = df.fillna( { 'kcat': -5, 'km': -5, 'eff': -5 } )\n",
    "df = df.dropna()\n",
    "\n",
    "drop = [ 'index', 'kcat', 'km', 'eff', 'SR_1_all_cst', \n",
    "         'SR_2_all_cst', 'SR_3_all_cst', 'SR_4_all_cst', ]\n",
    "\n",
    "y = df[['kcat', 'km', 'eff']].as_matrix()\n",
    "X = df.drop( drop, 1 ).as_matrix()\n",
    "\n",
    "# multi elastic net\n",
    "params = {\n",
    "    'cv': 779,\n",
    "    'l1_ratio': [ 0.95, 0.99 ],\n",
    "    'n_jobs': 4, \n",
    "}\n",
    "\n",
    "multi_net = MultiTaskElasticNetCV( **params )\n",
    "multi_net.fit( X, y )"
   ]
  },
  {
   "cell_type": "code",
   "execution_count": null,
   "metadata": {
    "collapsed": false
   },
   "outputs": [],
   "source": [
    "# results\n",
    "from numpy import concatenate\n",
    "preds = concatenate( [ multi_net.predict( X[ i ] ) for i in range( len( X ) ) ] )\n",
    "\n",
    "predicts = pandas.DataFrame( preds, index=df.index, columns=['kcat', 'km', 'eff'] )\n",
    "actuals = pandas.DataFrame( y, index=df.index, columns=['kcat', 'km', 'eff'] )\n",
    "\n",
    "fig, ax = plt.subplots( nrows=1, ncols=3, figsize=(16,3) )\n",
    "fig.suptitle( 'Elastic net with {}-fold cross validation'.format( params['cv'] ) ) \n",
    "\n",
    "ax[0].scatter( actuals.kcat, predicts.kcat, color='g', alpha=0.19 )\n",
    "ax[0].set_xlabel( 'Measured $k_{cat}$' ); ax[0].set_ylabel( 'Predicted $k_{cat}$' )\n",
    "\n",
    "ax[1].scatter( actuals.km, predicts.km, color='b', alpha=0.19 )\n",
    "ax[1].set_xlabel( 'Measured $K_{M}$' ); ax[1].set_ylabel( 'Predicted $K_{M}$' )\n",
    "\n",
    "ax[2].scatter( actuals.eff, predicts.eff, color='r', alpha=0.19 )\n",
    "ax[2].set_xlabel( 'Measured $k_{cat}/K_M$' ); ax[2].set_ylabel( 'Predicted $k_{cat}/K_M$' )\n",
    "\n",
    "#weights = pandas.DataFrame( zip( df.columns[1:-3], net.coef_ ), columns=['feature', 'weight'] )\n",
    "#weights.sort( 'weight' )[0:11]"
   ]
  },
  {
   "cell_type": "code",
   "execution_count": null,
   "metadata": {
    "collapsed": false
   },
   "outputs": [],
   "source": [
    "test = pandas.read_csv( 'test_set/test_set.sc', sep=r'\\s+' )\n",
    "drop_test = [ 'SR_1_all_cst', 'SR_2_all_cst', 'SR_3_all_cst', 'SR_4_all_cst', 'description', 'SR_1', 'SR_2', 'SR_4', 'SR_5', ]\n",
    "test_set = test.drop( drop_test, axis=1 ).as_matrix()"
   ]
  },
  {
   "cell_type": "code",
   "execution_count": null,
   "metadata": {
    "collapsed": false
   },
   "outputs": [],
   "source": [
    "# test set results\n",
    "from numpy import concatenate \n",
    "preds = [ multi_net.predict( test_set[ i ] ) for i in range( len( test_set ) ) ] \n",
    "combined = concatenate( preds )\n",
    "predictions = pandas.DataFrame( combined, index=test.description, columns=['pred_kcat', 'pred_1/km', 'pred_eff'] )\n",
    "predictions.describe()"
   ]
  },
  {
   "cell_type": "code",
   "execution_count": null,
   "metadata": {
    "collapsed": false
   },
   "outputs": [],
   "source": [
    "predictions.hist(bins=20)"
   ]
  },
  {
   "cell_type": "code",
   "execution_count": null,
   "metadata": {
    "collapsed": true
   },
   "outputs": [],
   "source": []
  }
 ],
 "metadata": {
  "kernelspec": {
   "display_name": "Python 2",
   "language": "python",
   "name": "python2"
  },
  "language_info": {
   "codemirror_mode": {
    "name": "ipython",
    "version": 2
   },
   "file_extension": ".py",
   "mimetype": "text/x-python",
   "name": "python",
   "nbconvert_exporter": "python",
   "pygments_lexer": "ipython2",
   "version": "2.7.10"
  }
 },
 "nbformat": 4,
 "nbformat_minor": 0
}
