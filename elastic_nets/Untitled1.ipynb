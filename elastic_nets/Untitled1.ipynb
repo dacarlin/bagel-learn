{
 "cells": [
  {
   "cell_type": "code",
   "execution_count": 19,
   "metadata": {
    "collapsed": true
   },
   "outputs": [],
   "source": [
    "import pandas\n",
    "from sklearn.linear_model import ElasticNetCV, MultiTaskElasticNetCV\n",
    "import matplotlib.pyplot as plt\n",
    "% matplotlib inline\n",
    "\n",
    "# data\n",
    "df = pandas.read_csv( 'data.csv' )\n",
    "df = df.fillna( { 'kcat': -5, 'km': -4, 'eff': -3 } )\n",
    "#df = df.dropna()\n",
    "\n",
    "drop = [ 'index', 'kcat', 'km', 'eff', 'SR_1_all_cst', \n",
    "         'SR_2_all_cst', 'SR_3_all_cst', 'SR_4_all_cst', ]\n",
    "\n",
    "y = df[['kcat', 'km', 'eff']]\n",
    "X = df.drop( drop, 1 )"
   ]
  },
  {
   "cell_type": "code",
   "execution_count": 20,
   "metadata": {
    "collapsed": false
   },
   "outputs": [
    {
     "data": {
      "text/plain": [
       "MultiTaskElasticNetCV(alphas=None, copy_X=True, cv=None, eps=0.001,\n",
       "           fit_intercept=True, l1_ratio=[0.1, 0.5, 1], max_iter=1000,\n",
       "           n_alphas=100, n_jobs=8, normalize=True, random_state=None,\n",
       "           selection='cyclic', tol=0.0001, verbose=0)"
      ]
     },
     "execution_count": 20,
     "metadata": {},
     "output_type": "execute_result"
    }
   ],
   "source": [
    "# elastic net\n",
    "params = {\n",
    "    'normalize': True, \n",
    "    'l1_ratio': [ .1, .5, 1 ],\n",
    "    'n_jobs': 8, \n",
    "}\n",
    "\n",
    "net = MultiTaskElasticNetCV( **params )\n",
    "net.fit( X, y )"
   ]
  }
 ],
 "metadata": {
  "kernelspec": {
   "display_name": "Python 2",
   "language": "python",
   "name": "python2"
  },
  "language_info": {
   "codemirror_mode": {
    "name": "ipython",
    "version": 2
   },
   "file_extension": ".py",
   "mimetype": "text/x-python",
   "name": "python",
   "nbconvert_exporter": "python",
   "pygments_lexer": "ipython2",
   "version": "2.7.10"
  }
 },
 "nbformat": 4,
 "nbformat_minor": 0
}
