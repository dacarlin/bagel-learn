{
 "cells": [
  {
   "cell_type": "code",
   "execution_count": 192,
   "metadata": {
    "collapsed": true
   },
   "outputs": [],
   "source": [
    "import pandas"
   ]
  },
  {
   "cell_type": "code",
   "execution_count": 193,
   "metadata": {
    "collapsed": false
   },
   "outputs": [],
   "source": [
    "kinetics = pandas.read_csv( 'kinetics.csv' )\n",
    "scores = pandas.read_csv( 'score.sc', sep=r'\\s+' )\n",
    "scores.description = scores.description.str[:-5]\n",
    "scores.set_index( 'description', inplace=True ) \n",
    "kinetics.set_index( 'description', inplace=True ) \n",
    "joined = df.join( scores )\n",
    "joined.dropna( inplace=True )\n",
    "col_list = [ 'plate', 'a280', 'dilution', 'well', 'kobs', 's', 'correction', 'SR_1', 'SR_3', 'SR_4', 'all_cst' ]\n",
    "joined.drop( col_list, axis=1, inplace=True )\n",
    "joined.to_csv( 'joined.csv' )"
   ]
  },
  {
   "cell_type": "code",
   "execution_count": 194,
   "metadata": {
    "collapsed": false
   },
   "outputs": [
    {
     "data": {
      "text/html": [
       "<div>\n",
       "<table border=\"1\" class=\"dataframe\">\n",
       "  <thead>\n",
       "    <tr style=\"text-align: right;\">\n",
       "      <th></th>\n",
       "      <th>maxv</th>\n",
       "      <th>total_score</th>\n",
       "      <th>fa_rep</th>\n",
       "      <th>hbond_sc</th>\n",
       "      <th>tot_pstat_pm</th>\n",
       "      <th>tot_nlpstat_pm</th>\n",
       "      <th>tot_burunsat_pm</th>\n",
       "      <th>tot_hbond_pm</th>\n",
       "      <th>tot_NLconts_pm</th>\n",
       "      <th>tot_nlsurfaceE_pm</th>\n",
       "      <th>...</th>\n",
       "      <th>SR_4_nlpstat_pm</th>\n",
       "      <th>SR_5</th>\n",
       "      <th>SR_5_total_score</th>\n",
       "      <th>SR_5_fa_rep</th>\n",
       "      <th>SR_5_hbond_sc</th>\n",
       "      <th>SR_5_all_cst</th>\n",
       "      <th>SR_5_interf_E_1_2</th>\n",
       "      <th>SR_5_dsasa_1_2</th>\n",
       "      <th>SR_5_hbond_pm</th>\n",
       "      <th>SR_5_burunsat_pm</th>\n",
       "    </tr>\n",
       "    <tr>\n",
       "      <th>description</th>\n",
       "      <th></th>\n",
       "      <th></th>\n",
       "      <th></th>\n",
       "      <th></th>\n",
       "      <th></th>\n",
       "      <th></th>\n",
       "      <th></th>\n",
       "      <th></th>\n",
       "      <th></th>\n",
       "      <th></th>\n",
       "      <th></th>\n",
       "      <th></th>\n",
       "      <th></th>\n",
       "      <th></th>\n",
       "      <th></th>\n",
       "      <th></th>\n",
       "      <th></th>\n",
       "      <th></th>\n",
       "      <th></th>\n",
       "      <th></th>\n",
       "      <th></th>\n",
       "    </tr>\n",
       "  </thead>\n",
       "  <tbody>\n",
       "    <tr>\n",
       "      <th>a192s</th>\n",
       "      <td>0.0965</td>\n",
       "      <td>-623.04</td>\n",
       "      <td>227.13</td>\n",
       "      <td>-72.48</td>\n",
       "      <td>0.71</td>\n",
       "      <td>0.70</td>\n",
       "      <td>148</td>\n",
       "      <td>439</td>\n",
       "      <td>153</td>\n",
       "      <td>0.85</td>\n",
       "      <td>...</td>\n",
       "      <td>0.92</td>\n",
       "      <td>446.00</td>\n",
       "      <td>-5.19</td>\n",
       "      <td>1.04</td>\n",
       "      <td>-3.48</td>\n",
       "      <td>0.00</td>\n",
       "      <td>-10.39</td>\n",
       "      <td>0.90</td>\n",
       "      <td>7</td>\n",
       "      <td>1</td>\n",
       "    </tr>\n",
       "    <tr>\n",
       "      <th>a192s</th>\n",
       "      <td>0.0965</td>\n",
       "      <td>-629.57</td>\n",
       "      <td>226.30</td>\n",
       "      <td>-74.72</td>\n",
       "      <td>0.71</td>\n",
       "      <td>0.70</td>\n",
       "      <td>142</td>\n",
       "      <td>440</td>\n",
       "      <td>152</td>\n",
       "      <td>0.82</td>\n",
       "      <td>...</td>\n",
       "      <td>0.94</td>\n",
       "      <td>446.00</td>\n",
       "      <td>-5.78</td>\n",
       "      <td>0.97</td>\n",
       "      <td>-4.03</td>\n",
       "      <td>0.01</td>\n",
       "      <td>-11.57</td>\n",
       "      <td>0.90</td>\n",
       "      <td>8</td>\n",
       "      <td>1</td>\n",
       "    </tr>\n",
       "    <tr>\n",
       "      <th>a192s</th>\n",
       "      <td>0.0965</td>\n",
       "      <td>-618.43</td>\n",
       "      <td>230.16</td>\n",
       "      <td>-71.76</td>\n",
       "      <td>0.69</td>\n",
       "      <td>0.70</td>\n",
       "      <td>148</td>\n",
       "      <td>437</td>\n",
       "      <td>152</td>\n",
       "      <td>1.18</td>\n",
       "      <td>...</td>\n",
       "      <td>0.83</td>\n",
       "      <td>446.00</td>\n",
       "      <td>-5.13</td>\n",
       "      <td>1.12</td>\n",
       "      <td>-3.48</td>\n",
       "      <td>0.01</td>\n",
       "      <td>-10.25</td>\n",
       "      <td>0.90</td>\n",
       "      <td>7</td>\n",
       "      <td>1</td>\n",
       "    </tr>\n",
       "    <tr>\n",
       "      <th>a192s</th>\n",
       "      <td>0.0965</td>\n",
       "      <td>-624.09</td>\n",
       "      <td>227.52</td>\n",
       "      <td>-73.58</td>\n",
       "      <td>0.69</td>\n",
       "      <td>0.69</td>\n",
       "      <td>144</td>\n",
       "      <td>442</td>\n",
       "      <td>151</td>\n",
       "      <td>1.16</td>\n",
       "      <td>...</td>\n",
       "      <td>0.95</td>\n",
       "      <td>446.00</td>\n",
       "      <td>-5.59</td>\n",
       "      <td>0.88</td>\n",
       "      <td>-3.86</td>\n",
       "      <td>0.00</td>\n",
       "      <td>-11.18</td>\n",
       "      <td>0.91</td>\n",
       "      <td>8</td>\n",
       "      <td>1</td>\n",
       "    </tr>\n",
       "    <tr>\n",
       "      <th>a192s</th>\n",
       "      <td>0.0965</td>\n",
       "      <td>-620.44</td>\n",
       "      <td>228.50</td>\n",
       "      <td>-71.49</td>\n",
       "      <td>0.72</td>\n",
       "      <td>0.70</td>\n",
       "      <td>148</td>\n",
       "      <td>439</td>\n",
       "      <td>151</td>\n",
       "      <td>1.14</td>\n",
       "      <td>...</td>\n",
       "      <td>0.96</td>\n",
       "      <td>446.00</td>\n",
       "      <td>-5.14</td>\n",
       "      <td>1.05</td>\n",
       "      <td>-3.46</td>\n",
       "      <td>0.01</td>\n",
       "      <td>-10.28</td>\n",
       "      <td>0.90</td>\n",
       "      <td>7</td>\n",
       "      <td>1</td>\n",
       "    </tr>\n",
       "  </tbody>\n",
       "</table>\n",
       "<p>5 rows × 56 columns</p>\n",
       "</div>"
      ],
      "text/plain": [
       "               maxv  total_score  fa_rep  hbond_sc  tot_pstat_pm  \\\n",
       "description                                                        \n",
       "a192s        0.0965      -623.04  227.13    -72.48          0.71   \n",
       "a192s        0.0965      -629.57  226.30    -74.72          0.71   \n",
       "a192s        0.0965      -618.43  230.16    -71.76          0.69   \n",
       "a192s        0.0965      -624.09  227.52    -73.58          0.69   \n",
       "a192s        0.0965      -620.44  228.50    -71.49          0.72   \n",
       "\n",
       "             tot_nlpstat_pm  tot_burunsat_pm  tot_hbond_pm  tot_NLconts_pm  \\\n",
       "description                                                                  \n",
       "a192s                  0.70              148           439             153   \n",
       "a192s                  0.70              142           440             152   \n",
       "a192s                  0.70              148           437             152   \n",
       "a192s                  0.69              144           442             151   \n",
       "a192s                  0.70              148           439             151   \n",
       "\n",
       "             tot_nlsurfaceE_pm        ...         SR_4_nlpstat_pm    SR_5  \\\n",
       "description                           ...                                   \n",
       "a192s                     0.85        ...                    0.92  446.00   \n",
       "a192s                     0.82        ...                    0.94  446.00   \n",
       "a192s                     1.18        ...                    0.83  446.00   \n",
       "a192s                     1.16        ...                    0.95  446.00   \n",
       "a192s                     1.14        ...                    0.96  446.00   \n",
       "\n",
       "             SR_5_total_score  SR_5_fa_rep  SR_5_hbond_sc  SR_5_all_cst  \\\n",
       "description                                                               \n",
       "a192s                   -5.19         1.04          -3.48          0.00   \n",
       "a192s                   -5.78         0.97          -4.03          0.01   \n",
       "a192s                   -5.13         1.12          -3.48          0.01   \n",
       "a192s                   -5.59         0.88          -3.86          0.00   \n",
       "a192s                   -5.14         1.05          -3.46          0.01   \n",
       "\n",
       "             SR_5_interf_E_1_2  SR_5_dsasa_1_2  SR_5_hbond_pm  \\\n",
       "description                                                     \n",
       "a192s                   -10.39            0.90              7   \n",
       "a192s                   -11.57            0.90              8   \n",
       "a192s                   -10.25            0.90              7   \n",
       "a192s                   -11.18            0.91              8   \n",
       "a192s                   -10.28            0.90              7   \n",
       "\n",
       "             SR_5_burunsat_pm  \n",
       "description                    \n",
       "a192s                       1  \n",
       "a192s                       1  \n",
       "a192s                       1  \n",
       "a192s                       1  \n",
       "a192s                       1  \n",
       "\n",
       "[5 rows x 56 columns]"
      ]
     },
     "execution_count": 194,
     "metadata": {},
     "output_type": "execute_result"
    }
   ],
   "source": [
    "joined.head()"
   ]
  },
  {
   "cell_type": "code",
   "execution_count": 195,
   "metadata": {
    "collapsed": true
   },
   "outputs": [],
   "source": [
    "from sklearn.linear_model import ElasticNetCV\n",
    "net = ElasticNetCV( normalize=True )"
   ]
  },
  {
   "cell_type": "code",
   "execution_count": 196,
   "metadata": {
    "collapsed": false
   },
   "outputs": [
    {
     "data": {
      "text/plain": [
       "ElasticNetCV(alphas=None, copy_X=True, cv=None, eps=0.001, fit_intercept=True,\n",
       "       l1_ratio=0.5, max_iter=1000, n_alphas=100, n_jobs=1, normalize=True,\n",
       "       positive=False, precompute='auto', random_state=None,\n",
       "       selection='cyclic', tol=0.0001, verbose=0)"
      ]
     },
     "execution_count": 196,
     "metadata": {},
     "output_type": "execute_result"
    }
   ],
   "source": [
    "y = joined.maxv\n",
    "X = joined.drop( 'maxv', axis=1 )\n",
    "net.fit( X, y )"
   ]
  },
  {
   "cell_type": "code",
   "execution_count": 197,
   "metadata": {
    "collapsed": false
   },
   "outputs": [
    {
     "data": {
      "text/plain": [
       "0.0044680925212071676"
      ]
     },
     "execution_count": 197,
     "metadata": {},
     "output_type": "execute_result"
    }
   ],
   "source": [
    "net.score( X, y )"
   ]
  },
  {
   "cell_type": "code",
   "execution_count": 199,
   "metadata": {
    "collapsed": false
   },
   "outputs": [
    {
     "data": {
      "text/plain": [
       "GridSearchCV(cv=None, error_score='raise',\n",
       "       estimator=ElasticNetCV(alphas=None, copy_X=True, cv=None, eps=0.001, fit_intercept=True,\n",
       "       l1_ratio=0.5, max_iter=1000, n_alphas=100, n_jobs=1, normalize=True,\n",
       "       positive=False, precompute='auto', random_state=None,\n",
       "       selection='cyclic', tol=0.0001, verbose=0),\n",
       "       fit_params={}, iid=True, loss_func=None, n_jobs=1, param_grid=[{}],\n",
       "       pre_dispatch='2*n_jobs', refit=True, score_func=None, scoring=None,\n",
       "       verbose=0)"
      ]
     },
     "execution_count": 199,
     "metadata": {},
     "output_type": "execute_result"
    }
   ],
   "source": [
    "from sklearn import grid_search\n",
    "\n",
    "params = [\n",
    "    {\n",
    "        \n",
    "    }\n",
    "]\n",
    "\n",
    "grid = grid_search.GridSearchCV( net, params )\n",
    "grid.fit( X, y )"
   ]
  },
  {
   "cell_type": "code",
   "execution_count": 201,
   "metadata": {
    "collapsed": true
   },
   "outputs": [],
   "source": [
    "print X.get_values?"
   ]
  },
  {
   "cell_type": "code",
   "execution_count": 204,
   "metadata": {
    "collapsed": false
   },
   "outputs": [
    {
     "ename": "KeyError",
     "evalue": "'e53a'",
     "output_type": "error",
     "traceback": [
      "\u001b[0;31m---------------------------------------------------------------------------\u001b[0m",
      "\u001b[0;31mKeyError\u001b[0m                                  Traceback (most recent call last)",
      "\u001b[0;32m<ipython-input-204-71e0ae224c13>\u001b[0m in \u001b[0;36m<module>\u001b[0;34m()\u001b[0m\n\u001b[0;32m----> 1\u001b[0;31m \u001b[0;32mprint\u001b[0m \u001b[0mX\u001b[0m\u001b[0;34m.\u001b[0m\u001b[0mget_value\u001b[0m\u001b[0;34m(\u001b[0m \u001b[0;34m'e53a'\u001b[0m\u001b[0;34m,\u001b[0m \u001b[0;34m'total_score'\u001b[0m \u001b[0;34m)\u001b[0m\u001b[0;34m\u001b[0m\u001b[0m\n\u001b[0m",
      "\u001b[0;32m/usr/local/bin/anaconda/lib/python2.7/site-packages/pandas/core/frame.pyc\u001b[0m in \u001b[0;36mget_value\u001b[0;34m(self, index, col, takeable)\u001b[0m\n\u001b[1;32m   1657\u001b[0m         \u001b[0mseries\u001b[0m \u001b[0;34m=\u001b[0m \u001b[0mself\u001b[0m\u001b[0;34m.\u001b[0m\u001b[0m_get_item_cache\u001b[0m\u001b[0;34m(\u001b[0m\u001b[0mcol\u001b[0m\u001b[0;34m)\u001b[0m\u001b[0;34m\u001b[0m\u001b[0m\n\u001b[1;32m   1658\u001b[0m         \u001b[0mengine\u001b[0m \u001b[0;34m=\u001b[0m \u001b[0mself\u001b[0m\u001b[0;34m.\u001b[0m\u001b[0mindex\u001b[0m\u001b[0;34m.\u001b[0m\u001b[0m_engine\u001b[0m\u001b[0;34m\u001b[0m\u001b[0m\n\u001b[0;32m-> 1659\u001b[0;31m         \u001b[0;32mreturn\u001b[0m \u001b[0mengine\u001b[0m\u001b[0;34m.\u001b[0m\u001b[0mget_value\u001b[0m\u001b[0;34m(\u001b[0m\u001b[0mseries\u001b[0m\u001b[0;34m.\u001b[0m\u001b[0mget_values\u001b[0m\u001b[0;34m(\u001b[0m\u001b[0;34m)\u001b[0m\u001b[0;34m,\u001b[0m \u001b[0mindex\u001b[0m\u001b[0;34m)\u001b[0m\u001b[0;34m\u001b[0m\u001b[0m\n\u001b[0m\u001b[1;32m   1660\u001b[0m \u001b[0;34m\u001b[0m\u001b[0m\n\u001b[1;32m   1661\u001b[0m     \u001b[0;32mdef\u001b[0m \u001b[0mset_value\u001b[0m\u001b[0;34m(\u001b[0m\u001b[0mself\u001b[0m\u001b[0;34m,\u001b[0m \u001b[0mindex\u001b[0m\u001b[0;34m,\u001b[0m \u001b[0mcol\u001b[0m\u001b[0;34m,\u001b[0m \u001b[0mvalue\u001b[0m\u001b[0;34m,\u001b[0m \u001b[0mtakeable\u001b[0m\u001b[0;34m=\u001b[0m\u001b[0mFalse\u001b[0m\u001b[0;34m)\u001b[0m\u001b[0;34m:\u001b[0m\u001b[0;34m\u001b[0m\u001b[0m\n",
      "\u001b[0;32mpandas/index.pyx\u001b[0m in \u001b[0;36mpandas.index.IndexEngine.get_value (pandas/index.c:3113)\u001b[0;34m()\u001b[0m\n",
      "\u001b[0;32mpandas/index.pyx\u001b[0m in \u001b[0;36mpandas.index.IndexEngine.get_value (pandas/index.c:2844)\u001b[0;34m()\u001b[0m\n",
      "\u001b[0;32mpandas/index.pyx\u001b[0m in \u001b[0;36mpandas.index.IndexEngine.get_loc (pandas/index.c:3651)\u001b[0;34m()\u001b[0m\n",
      "\u001b[0;32mpandas/index.pyx\u001b[0m in \u001b[0;36mpandas.index.IndexEngine._get_loc_duplicates (pandas/index.c:3990)\u001b[0;34m()\u001b[0m\n",
      "\u001b[0;31mKeyError\u001b[0m: 'e53a'"
     ]
    }
   ],
   "source": [
    "print X.get_value( 'e53a', 'total_score' )"
   ]
  },
  {
   "cell_type": "code",
   "execution_count": null,
   "metadata": {
    "collapsed": true
   },
   "outputs": [],
   "source": [
    "print X.get_values"
   ]
  },
  {
   "cell_type": "code",
   "execution_count": null,
   "metadata": {
    "collapsed": true
   },
   "outputs": [],
   "source": []
  }
 ],
 "metadata": {},
 "nbformat": 4,
 "nbformat_minor": 0
}
