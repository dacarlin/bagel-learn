{
 "cells": [
  {
   "cell_type": "code",
   "execution_count": 13,
   "metadata": {
    "collapsed": false
   },
   "outputs": [
    {
     "name": "stdout",
     "output_type": "stream",
     "text": [
      "NTFIFPATFMWGTSTSSYQIEGGTDEGGRTPSIWDTFCQIPGKVIGGDCGDVACDHFHHFKEDVQLMKQLGFLHYRFSVAWPRIMPAAGIINEEGLLFYEHLLDEIELAGLIPMLTLYHWDLPQWIEDEGGWTQRETIQHFKTYASVIMDRFGERINWWNTINEPYCASILGYGTGEHAPGHENWREAFTAAHHILMCHGIASNLHKEKGLTGKIGITLNMEHVDAASERPEDVAAAIRRDGFINRWFAEPLFNGKYPEDMVEWYGTYLNGLDFVQPGDMELIQQPGDFLGINYYTRSIIRSTNDASLLQVEQVHMEEPVTDMGWEIHPESFYKLLTRIEKDFSKGLPILITENGAAMRDELVNGQIEDTGRHGYIEEHLKACHRFIEEGGQLKGYFVWSFLDNFEWAWGYSKRFGIVHINYETQERTPKQSALWFKQMMAKNGFGSLEX\n"
     ]
    }
   ],
   "source": [
    "import screed\n",
    "import pandas\n",
    "import numpy \n",
    "\n",
    "for record in screed.open( '../structures_sequences/bglb.pep' ):\n",
    "    print record.sequence\n",
    "    seq = record.sequence[:-1]"
   ]
  },
  {
   "cell_type": "code",
   "execution_count": 14,
   "metadata": {
    "collapsed": false
   },
   "outputs": [
    {
     "name": "stdout",
     "output_type": "stream",
     "text": [
      "/Users/alex/Documents/bagel-learn/kde_sequence\r\n"
     ]
    }
   ],
   "source": [
    "!pwd"
   ]
  },
  {
   "cell_type": "code",
   "execution_count": 32,
   "metadata": {
    "collapsed": false
   },
   "outputs": [
    {
     "data": {
      "text/plain": [
       "array([[u'N', u'T', u'F', ..., u'S', u'L', u'E'],\n",
       "       [u'N', u'T', u'F', ..., u'S', u'L', u'E'],\n",
       "       [u'N', u'T', u'F', ..., u'S', u'L', u'E'],\n",
       "       ..., \n",
       "       [u'N', u'T', u'F', ..., u'S', u'L', u'E'],\n",
       "       [u'N', u'T', u'F', ..., u'S', u'L', u'E'],\n",
       "       [u'N', u'T', u'F', ..., u'S', u'L', u'E']], \n",
       "      dtype='<U1')"
      ]
     },
     "execution_count": 32,
     "metadata": {},
     "output_type": "execute_result"
    }
   ],
   "source": [
    "X = [ list( seq ) for x in range( 102 ) ]\n",
    "\n",
    "train_set = pandas.read_csv( '../benchmark/data/train_set.csv' )\n",
    "expr = pandas.DataFrame( train_set.expressed, index=train_set.mutant )\n",
    "\n",
    "#for index, series in train_set:\n",
    "#    if index != 'BglB':\n",
    "        \n",
    "\n",
    "for i, x in enumerate( mutants ):\n",
    "    X[i][int(x[1:-1])-1] = x[-1] \n",
    "    #X[i].append(  )\n",
    "    \n",
    "X = numpy.array( X )\n",
    "X"
   ]
  },
  {
   "cell_type": "raw",
   "metadata": {},
   "source": []
  }
 ],
 "metadata": {
  "kernelspec": {
   "display_name": "Python 2",
   "language": "python",
   "name": "python2"
  },
  "language_info": {
   "codemirror_mode": {
    "name": "ipython",
    "version": 2
   },
   "file_extension": ".py",
   "mimetype": "text/x-python",
   "name": "python",
   "nbconvert_exporter": "python",
   "pygments_lexer": "ipython2",
   "version": "2.7.10"
  }
 },
 "nbformat": 4,
 "nbformat_minor": 0
}
